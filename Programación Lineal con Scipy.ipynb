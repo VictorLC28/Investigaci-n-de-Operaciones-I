{
  "nbformat": 4,
  "nbformat_minor": 0,
  "metadata": {
    "colab": {
      "provenance": [],
      "authorship_tag": "ABX9TyO8ZHmygFuXrumYbqLF/b/T",
      "include_colab_link": true
    },
    "kernelspec": {
      "name": "python3",
      "display_name": "Python 3"
    },
    "language_info": {
      "name": "python"
    }
  },
  "cells": [
    {
      "cell_type": "markdown",
      "metadata": {
        "id": "view-in-github",
        "colab_type": "text"
      },
      "source": [
        "<a href=\"https://colab.research.google.com/github/VictorLC28/Investigaci-n-de-Operaciones-I/blob/main/Programaci%C3%B3n%20Lineal%20con%20Scipy.ipynb\" target=\"_parent\"><img src=\"https://colab.research.google.com/assets/colab-badge.svg\" alt=\"Open In Colab\"/></a>"
      ]
    },
    {
      "cell_type": "markdown",
      "source": [
        "# SOLUCIÓN DE PROBLEMAS LIBRERÍA Scipy\n",
        "El objetivo es encontrar la solción del siguiente problema de programación lineal por medio de la libreria Scipy.\n",
        "\n",
        "**Porblema:** Maximizar $$z=4x_1+x_2$$ \\\\\n",
        "Sujeto a: \\\\\n",
        "$$3x_1+x_2=3$$\n",
        "$$4x_1+3x_2 \\geq 6$$\n",
        "$$x_1+2x_2 \\leq 4$$\n",
        "$$x_1,x_2 \\geq 0$$\n"
      ],
      "metadata": {
        "id": "FgvHScNBQAQa"
      }
    },
    {
      "cell_type": "code",
      "source": [
        "from scipy.optimize import linprog #Llamamos la biblioteca y función que vamos a utilizar."
      ],
      "metadata": {
        "id": "rpbivG3sR7pY"
      },
      "execution_count": 1,
      "outputs": []
    },
    {
      "cell_type": "markdown",
      "source": [
        "Lo primero que debemos hacer es declarar nuestros vectores, de forma que podamos reescribir nuestro problema de optimización a uno de la forma:\n",
        "\n",
        "**Maximizar:** $$z=cx$$ \\\\\n",
        "Sujeto a:\n",
        "$$A_1x \\leq b_1$$\n",
        "$$A_2x \\geq b_2$$\n",
        "$$A_3x = b_3$$\n",
        "Con $$x_i \\geq 0 \\; \\forall \\; i \\in \\{1, \\cdots, n \\}$$\n",
        "\n",
        "Así, nuestro problema se define de forma general como:\n",
        "  \n",
        "**Optimizar:** $$z=c_1x_1+c_2x_2+...c_nx_n$$ \\\\\n",
        "Sujeto a:\n",
        "$$ a_{1,1}x_{1}+a_{1,2}x_{2}+...+a_{1,n}x_{n} \\leq b_{1}\\\\ $$\n",
        "$$\\vdots$$\n",
        "$$ a_{i,1}x_{1}+a_{i,2}x_{2}+...+a_{i,n}x_{n} \\leq b_{i}\\\\ $$\n",
        "$$ a_{i+1,1}x_{1}+a_{i+1,2}x_{2}+...+a_{i+1,n}x_{n} \\geq b_{i+1}\\\\ $$\n",
        "$$\\vdots$$\n",
        "$$ a_{i+k,1}x_{1}+a_{i+1,2}x_{2}+...+a_{i+k,n}x_{n} \\geq b_{i+k}\\\\ $$\n",
        "$$ a_{i+k+1,1}x_{1}+a_{i+k+1,2}x_{2}+...+a_{i+k+1,n}x_{n} = b_{i+k+1}\\\\ $$\n",
        "$$\\vdots$$\n",
        "$$ a_{i+k+l,1}x_{1}+a_{m,2}x_{2}+...+a_{i+k+l,n}x_{n} = b_{i+k+l}\\\\ $$\n",
        "\n",
        "Donde $i+k+l=m$, con $i,k,l,m,n \\in \\mathbb{N}$\n",
        "Entonces tenemos que, para poder reescribirlo de forma correcta, definimos a nuestraz matrices $A_1, A_2,A_3$ como:\n",
        "$$A_1= \\begin{bmatrix}\n",
        "a_{1,1} & a_{1,2} & \\cdots & a_{1,n} \\\\\n",
        "a_{2,1} & a_{2,2} & \\cdots & a_{2,n} \\\\\n",
        "\\vdots & \\vdots & \\vdots & \\vdots \\\\\n",
        "a_{i,1} & a_{i,2} & \\cdots & a_{i,n} \\\\\n",
        "\\end{bmatrix}; \\; A_2= \\begin{bmatrix}\n",
        "a_{i+1,1} & a_{i+1,2} & \\cdots & a_{i+1,n} \\\\\n",
        "a_{i+2,1} & a_{i+2,2} & \\cdots & a_{i+2,n} \\\\\n",
        "\\vdots & \\vdots & \\vdots & \\vdots \\\\\n",
        "a_{i+k,1} & a_{i+k,2} & \\cdots & a_{i+k,n} \\\\\n",
        "\\end{bmatrix}; \\; A_3= \\begin{bmatrix}\n",
        "a_{i+k+1,1} & a_{i+k+1,2} & \\cdots & a_{i+k+1,n} \\\\\n",
        "a_{i+k+2,1} & a_{i+k+2,2} & \\cdots & a_{i+k+2,n} \\\\\n",
        "\\vdots & \\vdots & \\vdots & \\vdots \\\\\n",
        "a_{m,1} & a_{m,2} & \\cdots & a_{m,n} \\\\\n",
        "\\end{bmatrix}\n",
        "$$\n",
        "Definimos a nuestros vectores $b_1, b_2, b_3$ como:\n",
        "$$b_1= \\begin{bmatrix}\n",
        "b_{1}  \\\\\n",
        "b_{2}  \\\\\n",
        "\\vdots  \\\\\n",
        "b_{i}  \\\\\n",
        "\\end{bmatrix}; \\; b_2= \\begin{bmatrix}\n",
        "b_{i+1}  \\\\\n",
        "b_{i+2}  \\\\\n",
        "\\vdots  \\\\\n",
        "b_{i+k}  \\\\\n",
        "\\end{bmatrix}; \\; b_3= \\begin{bmatrix}\n",
        "b_{i+k+1}  \\\\\n",
        "b_{i+k+2}  \\\\\n",
        "\\vdots  \\\\\n",
        "b_{m}  \\\\\n",
        "\\end{bmatrix} $$\n",
        "A nuestro vector $c$ como:\n",
        "$$c= [c_{1}, c_{2}, \\cdots, c_{n}]$$\n",
        "y a nuestro vector de varaibles $x$ como:\n",
        "$$x= \\begin{bmatrix}\n",
        "x_{1}  \\\\\n",
        "x_{2}  \\\\\n",
        "\\vdots  \\\\\n",
        "x_{n}  \\\\\n",
        "\\end{bmatrix}\n",
        "$$"
      ],
      "metadata": {
        "id": "9Hw8_bHQP9A2"
      }
    },
    {
      "cell_type": "markdown",
      "source": [
        "En el caso de nuestro problema definimos a nuestros vectores de la siguiente forma: \\\\\n",
        "$$c=[4,1] \\quad \\text{y} \\quad x=[x_1,x_2]$$\n",
        "A nuestras matrices, las definimos de la forma:\n",
        "$$A_1= \\begin{bmatrix}\n",
        "3 & 1 \\\\\n",
        "0 & 0 \\\\\n",
        "0 & 0 \\\\\n",
        "\\end{bmatrix}; \\; A_2= \\begin{bmatrix}\n",
        "0 & 0 \\\\\n",
        "4 & 3 \\\\\n",
        "0 & 0 \\\\\n",
        "\\end{bmatrix}; \\; A_3= \\begin{bmatrix}\n",
        "0 & 0 \\\\\n",
        "0 & 0 \\\\\n",
        "1 & 2 \\\\\n",
        "\\end{bmatrix} $$\n",
        "A los vectores restricción como:\n",
        "$$b_1=\\begin{bmatrix}\n",
        "3  \\\\\n",
        "0  \\\\\n",
        "0  \\\\\n",
        "\\end{bmatrix}; \\; b_2=\\begin{bmatrix}\n",
        "0  \\\\\n",
        "6  \\\\\n",
        "0  \\\\\n",
        "\\end{bmatrix}; \\; b_1=\\begin{bmatrix}\n",
        "0  \\\\\n",
        "0  \\\\\n",
        "4  \\\\\n",
        "\\end{bmatrix}$$\n",
        "Con esto podemos reescribir nuestro problema de la forma deseada, ahora, de esta manera podemos incorporarlos dentro de nuestro metodo de solución por media de la impleemtación en la libreria Scipy:\n"
      ],
      "metadata": {
        "id": "3pA_Jajec8kF"
      }
    },
    {
      "cell_type": "code",
      "source": [
        "#Lo primero es declarar a nuestros respectivos vectores:\n",
        "c = [-4 , -1] #En el caso de que busquemos optmizar nuestros valores del vector c se multiplican por -1."
      ],
      "metadata": {
        "id": "3Q7FyVQtfQ3P"
      },
      "execution_count": 2,
      "outputs": []
    },
    {
      "cell_type": "code",
      "source": [
        "#Para ingresar una matriz de hace como un arreglo de arreglos.\n",
        "A1 = [[3, 1], [0, 0], [0, 0]]\n",
        "A2 = [[0, 0], [-4, -3], [1, 2]] # Juntamos A2 y A3 puesto que la funcion a usar solo admite desigualdades menor igual, esto se consigue invirtiendo la mayor igual."
      ],
      "metadata": {
        "id": "nk1KTUG3fp5O"
      },
      "execution_count": 12,
      "outputs": []
    },
    {
      "cell_type": "code",
      "source": [
        "b1 = [3, 0, 0]\n",
        "b2 = [0, -6, 4]# Juntamos b2 y b3 puesto que la funcion a usar solo admite desigualdades menor igual, esto se consigue invirtiendo la mayor igual."
      ],
      "metadata": {
        "id": "5K_fPUt0gGyp"
      },
      "execution_count": 11,
      "outputs": []
    },
    {
      "cell_type": "code",
      "source": [
        "#en lugar de declarar un vector x, declaramos variable por variable, en nuestro caso 2.\n",
        "x1_bounds = (0, None)\n",
        "x2_bounds = (0, None)"
      ],
      "metadata": {
        "id": "h6FqNwXJgUnB"
      },
      "execution_count": 7,
      "outputs": []
    },
    {
      "cell_type": "code",
      "source": [
        "#Una vez declarados todos nuestro vectores, implementamos nuestra función de optimización:\n",
        "model_linear = linprog(c, A_ub=A2, b_ub=b2, A_eq=A1, b_eq=b1, bounds=[x1_bounds, x2_bounds])"
      ],
      "metadata": {
        "id": "MQZogYZSgqQZ"
      },
      "execution_count": 14,
      "outputs": []
    },
    {
      "cell_type": "code",
      "source": [
        "#Imprimimos nuestro resultado:\n",
        "print(model_linear)"
      ],
      "metadata": {
        "colab": {
          "base_uri": "https://localhost:8080/"
        },
        "id": "vXLW9mETip-Z",
        "outputId": "cccdb87d-1df5-4dfe-d2f2-91ca67d87730"
      },
      "execution_count": 15,
      "outputs": [
        {
          "output_type": "stream",
          "name": "stdout",
          "text": [
            "        message: Optimization terminated successfully. (HiGHS Status 7: Optimal)\n",
            "        success: True\n",
            "         status: 0\n",
            "            fun: -3.5999999999999996\n",
            "              x: [ 6.000e-01  1.200e+00]\n",
            "            nit: 0\n",
            "          lower:  residual: [ 6.000e-01  1.200e+00]\n",
            "                 marginals: [ 0.000e+00  0.000e+00]\n",
            "          upper:  residual: [       inf        inf]\n",
            "                 marginals: [ 0.000e+00  0.000e+00]\n",
            "          eqlin:  residual: [ 0.000e+00  0.000e+00  0.000e+00]\n",
            "                 marginals: [-1.600e+00 -0.000e+00 -0.000e+00]\n",
            "        ineqlin:  residual: [ 0.000e+00  0.000e+00  1.000e+00]\n",
            "                 marginals: [-0.000e+00 -2.000e-01 -0.000e+00]\n",
            " mip_node_count: 0\n",
            " mip_dual_bound: 0.0\n",
            "        mip_gap: 0.0\n"
          ]
        }
      ]
    },
    {
      "cell_type": "code",
      "source": [
        "print(model_linear.fun) #De esta forma obtenemos la solución optima del problema."
      ],
      "metadata": {
        "colab": {
          "base_uri": "https://localhost:8080/"
        },
        "id": "LEq_hhqWtt3s",
        "outputId": "f5dba579-3e74-4657-d299-0d118053bbbd"
      },
      "execution_count": 72,
      "outputs": [
        {
          "output_type": "stream",
          "name": "stdout",
          "text": [
            "-3.5999999999999996\n"
          ]
        }
      ]
    },
    {
      "cell_type": "code",
      "source": [
        "print(model_linear.x) # De esta forma solo se imprime el vector solución del problema."
      ],
      "metadata": {
        "colab": {
          "base_uri": "https://localhost:8080/"
        },
        "id": "8LBUvhn2jjri",
        "outputId": "dc4bf052-b693-4013-922e-5fffff07de36"
      },
      "execution_count": 19,
      "outputs": [
        {
          "output_type": "stream",
          "name": "stdout",
          "text": [
            "[0.6 1.2]\n"
          ]
        }
      ]
    },
    {
      "cell_type": "markdown",
      "source": [
        "Si lo buscamos resolver de forma gráfica tenemos lo siguiente:"
      ],
      "metadata": {
        "id": "TKZpii2XuJMi"
      }
    },
    {
      "cell_type": "code",
      "source": [
        "import sympy as sp\n",
        "sp.init_printing()"
      ],
      "metadata": {
        "id": "0t3VQqiBk36i"
      },
      "execution_count": 67,
      "outputs": []
    },
    {
      "cell_type": "code",
      "source": [
        "x=sp.symbols('x')\n",
        "y=sp.Function('y')"
      ],
      "metadata": {
        "id": "D7nMlKvDlBCP"
      },
      "execution_count": 21,
      "outputs": []
    },
    {
      "cell_type": "code",
      "source": [
        "c1 = sp.plotting.plot(3 - 3*x, (x, 0, 2), line_color='red', )"
      ],
      "metadata": {
        "colab": {
          "base_uri": "https://localhost:8080/",
          "height": 507
        },
        "id": "QVWNHRGblG8F",
        "outputId": "eea61e14-e0b9-4f33-fec6-eda88f34a9be"
      },
      "execution_count": 59,
      "outputs": [
        {
          "output_type": "display_data",
          "data": {
            "text/plain": [
              "<Figure size 640x480 with 1 Axes>"
            ],
            "image/png": "[encoded data removed]"
          },
          "metadata": {}
        }
      ]
    },
    {
      "cell_type": "code",
      "source": [
        "from sympy import plot_implicit, symbols, Eq, And"
      ],
      "metadata": {
        "id": "azj0JwD8ml0J"
      },
      "execution_count": 49,
      "outputs": []
    },
    {
      "cell_type": "code",
      "source": [
        "x,y=symbols('x y')"
      ],
      "metadata": {
        "id": "95sTrW5Jmpkf"
      },
      "execution_count": 41,
      "outputs": []
    },
    {
      "cell_type": "code",
      "source": [
        "c3 = plot_implicit(And((y < 2-x/2), (y < (6-4*x)*1/3)), (x, 0 , 4), (y, 0, 3), line_color='green')"
      ],
      "metadata": {
        "colab": {
          "base_uri": "https://localhost:8080/",
          "height": 507
        },
        "id": "G77g3Ai9msIE",
        "outputId": "a20fc81a-2a47-4bab-f404-732a5c3b4c88"
      },
      "execution_count": 69,
      "outputs": [
        {
          "output_type": "display_data",
          "data": {
            "text/plain": [
              "<Figure size 640x480 with 1 Axes>"
            ],
            "image/png": "[encoded data removed]"
          },
          "metadata": {}
        }
      ]
    },
    {
      "cell_type": "code",
      "source": [
        "c3.append(c1[0])\n",
        "c3.show()"
      ],
      "metadata": {
        "colab": {
          "base_uri": "https://localhost:8080/",
          "height": 507
        },
        "id": "WV9JZt8jpGr_",
        "outputId": "47954203-2491-4249-a206-3fbe3edc9639"
      },
      "execution_count": 70,
      "outputs": [
        {
          "output_type": "display_data",
          "data": {
            "text/plain": [
              "<Figure size 640x480 with 1 Axes>"
            ],
            "image/png": "[encoded data removed]"
          },
          "metadata": {}
        }
      ]
    }
  ]
}